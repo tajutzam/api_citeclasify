{
 "cells": [
  {
   "cell_type": "code",
   "execution_count": 28,
   "id": "8e4dfd10",
   "metadata": {},
   "outputs": [],
   "source": [
    "import fitz  # PyMuPDF\n",
    "import re\n",
    "\n",
    "def extract_text_from_pdf(pdf_path):\n",
    "    text = \"\"\n",
    "    doc = fitz.open(pdf_path)\n",
    "    for page in doc:\n",
    "        text += page.get_text()\n",
    "    text = text.replace('\\n', ' ')\n",
    "    return text\n",
    "\n",
    "def extract_citation_sentences(text):\n",
    "    citation_patterns = [\n",
    "        r'\\[[0-9,\\s]+\\]',\n",
    "        r'\\([A-Z][a-z]+ et al\\., \\d{4}\\)',\n",
    "        r'\\([A-Z][a-z]+, \\d{4}\\)',\n",
    "        r'\\([A-Z][a-z]+ & [A-Z][a-z]+, \\d{4}\\)',\n",
    "        r'\\([A-Z][a-z]+, [A-Z][a-z]+, & [A-Z][a-z]+, \\d{4}\\)',\n",
    "        r'[A-Z][a-z]+ \\(\\d{4}\\)',\n",
    "        r'[A-Z][a-z]+ and [A-Z][a-z]+ \\(\\d{4}\\)',\n",
    "        r'[A-Z][a-z]+ et al\\. \\(\\d{4}\\)',\n",
    "    ]\n",
    "\n",
    "    combined_pattern = '|'.join(citation_patterns)\n",
    "    sentences = re.split(r'(?<=[.!?])\\s+', text)\n",
    "\n",
    "    citation_sentences = [\n",
    "        s for s in sentences\n",
    "        if re.search(combined_pattern, s) and len(s.split()) >= 5\n",
    "    ]\n",
    "    return citation_sentences\n",
    "\n",
    "def highlight_citation_sentences(pdf_path, output_path):\n",
    "    doc = fitz.open(pdf_path)\n",
    "    all_text = extract_text_from_pdf(pdf_path)\n",
    "    citation_sentences = extract_citation_sentences(all_text)\n",
    "\n",
    "    for page in doc:\n",
    "        for sentence in citation_sentences:\n",
    "            areas = page.search_for(sentence)\n",
    "            for rect in areas:\n",
    "                highlight = page.add_highlight_annot(rect)\n",
    "                highlight.update()\n",
    "\n",
    "    doc.save(output_path)\n",
    "    doc.close()\n",
    "\n",
    "\n",
    "# Contoh pemakaian\n",
    "pdf_path = 'test.pdf'\n",
    "output_path = 'highlighted_output.pdf'\n",
    "highlight_citation_sentences(pdf_path, output_path)\n"
   ]
  },
  {
   "cell_type": "code",
   "execution_count": 15,
   "id": "7ad15942",
   "metadata": {},
   "outputs": [],
   "source": [
    "import pandas as pd"
   ]
  },
  {
   "cell_type": "code",
   "execution_count": 16,
   "id": "4ba7df1b",
   "metadata": {},
   "outputs": [],
   "source": [
    "sentences = pd.DataFrame(citation_sentences)"
   ]
  },
  {
   "cell_type": "code",
   "execution_count": 17,
   "id": "97241aec",
   "metadata": {},
   "outputs": [
    {
     "data": {
      "text/html": [
       "<div>\n",
       "<style scoped>\n",
       "    .dataframe tbody tr th:only-of-type {\n",
       "        vertical-align: middle;\n",
       "    }\n",
       "\n",
       "    .dataframe tbody tr th {\n",
       "        vertical-align: top;\n",
       "    }\n",
       "\n",
       "    .dataframe thead th {\n",
       "        text-align: right;\n",
       "    }\n",
       "</style>\n",
       "<table border=\"1\" class=\"dataframe\">\n",
       "  <thead>\n",
       "    <tr style=\"text-align: right;\">\n",
       "      <th></th>\n",
       "      <th>0</th>\n",
       "    </tr>\n",
       "  </thead>\n",
       "  <tbody>\n",
       "    <tr>\n",
       "      <th>0</th>\n",
       "      <td>Kalimat rujukan yang tertulis  dalam karya tul...</td>\n",
       "    </tr>\n",
       "    <tr>\n",
       "      <th>1</th>\n",
       "      <td>Setiap karya ilmiah mempunyai proses analisis ...</td>\n",
       "    </tr>\n",
       "    <tr>\n",
       "      <th>2</th>\n",
       "      <td>Klasifikasi  merupakan  proses  penggolongan a...</td>\n",
       "    </tr>\n",
       "    <tr>\n",
       "      <th>3</th>\n",
       "      <td>Dengan  hasil  tersebut   NLP memberikan respo...</td>\n",
       "    </tr>\n",
       "    <tr>\n",
       "      <th>4</th>\n",
       "      <td>Beberapa  penelitian terdahulu NLP dapat beker...</td>\n",
       "    </tr>\n",
       "    <tr>\n",
       "      <th>5</th>\n",
       "      <td>Dengan hasil tersebut  NLP memberikan respon y...</td>\n",
       "    </tr>\n",
       "    <tr>\n",
       "      <th>6</th>\n",
       "      <td>Hasil penelitian sebelumnya hanya berfokus pad...</td>\n",
       "    </tr>\n",
       "    <tr>\n",
       "      <th>7</th>\n",
       "      <td>Selain  itu  terdapat  juga  penelitian  yang ...</td>\n",
       "    </tr>\n",
       "    <tr>\n",
       "      <th>8</th>\n",
       "      <td>Hasil yang didapatkan pada penelitian tersebut...</td>\n",
       "    </tr>\n",
       "    <tr>\n",
       "      <th>9</th>\n",
       "      <td>Pada penelitian lain dapat melakukan klasifika...</td>\n",
       "    </tr>\n",
       "  </tbody>\n",
       "</table>\n",
       "</div>"
      ],
      "text/plain": [
       "                                                   0\n",
       "0  Kalimat rujukan yang tertulis  dalam karya tul...\n",
       "1  Setiap karya ilmiah mempunyai proses analisis ...\n",
       "2  Klasifikasi  merupakan  proses  penggolongan a...\n",
       "3  Dengan  hasil  tersebut   NLP memberikan respo...\n",
       "4  Beberapa  penelitian terdahulu NLP dapat beker...\n",
       "5  Dengan hasil tersebut  NLP memberikan respon y...\n",
       "6  Hasil penelitian sebelumnya hanya berfokus pad...\n",
       "7  Selain  itu  terdapat  juga  penelitian  yang ...\n",
       "8  Hasil yang didapatkan pada penelitian tersebut...\n",
       "9  Pada penelitian lain dapat melakukan klasifika..."
      ]
     },
     "execution_count": 17,
     "metadata": {},
     "output_type": "execute_result"
    }
   ],
   "source": [
    "sentences.head(10)"
   ]
  },
  {
   "cell_type": "code",
   "execution_count": 1,
   "id": "735d9bb2",
   "metadata": {},
   "outputs": [],
   "source": [
    "import pandas as pd\n",
    "\n",
    "data = pd.read_csv('dataset/data_test_asli.csv')"
   ]
  },
  {
   "cell_type": "code",
   "execution_count": 3,
   "id": "ba21e842",
   "metadata": {},
   "outputs": [],
   "source": [
    "data['clean_text_translated'] = data['clean_text_translated'].fillna(data['clean_text_translated'].mode()[0])\n",
    "data['label'] = data['label'].fillna(data['label'].mode()[0])"
   ]
  },
  {
   "cell_type": "code",
   "execution_count": 4,
   "id": "55111741",
   "metadata": {},
   "outputs": [
    {
     "data": {
      "text/plain": [
       "clean_text_translated    0\n",
       "label                    0\n",
       "dtype: int64"
      ]
     },
     "execution_count": 4,
     "metadata": {},
     "output_type": "execute_result"
    }
   ],
   "source": [
    "data.isnull().sum()"
   ]
  },
  {
   "cell_type": "code",
   "execution_count": 5,
   "id": "0b95f38c",
   "metadata": {},
   "outputs": [],
   "source": [
    "data.to_csv('dataset/data_test_asli.csv')"
   ]
  }
 ],
 "metadata": {
  "kernelspec": {
   "display_name": "Python 3",
   "language": "python",
   "name": "python3"
  },
  "language_info": {
   "codemirror_mode": {
    "name": "ipython",
    "version": 3
   },
   "file_extension": ".py",
   "mimetype": "text/x-python",
   "name": "python",
   "nbconvert_exporter": "python",
   "pygments_lexer": "ipython3",
   "version": "3.11.0"
  }
 },
 "nbformat": 4,
 "nbformat_minor": 5
}
