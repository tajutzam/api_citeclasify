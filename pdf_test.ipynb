{
 "cells": [
  {
   "cell_type": "code",
   "execution_count": 28,
   "id": "8e4dfd10",
   "metadata": {},
   "outputs": [],
   "source": [
    "import fitz  # PyMuPDF\n",
    "import re\n",
    "\n",
    "def extract_text_from_pdf(pdf_path):\n",
    "    text = \"\"\n",
    "    doc = fitz.open(pdf_path)\n",
    "    for page in doc:\n",
    "        text += page.get_text()\n",
    "    text = text.replace('\\n', ' ')\n",
    "    return text\n",
    "\n",
    "def extract_citation_sentences(text):\n",
    "    citation_patterns = [\n",
    "        r'\\[[0-9,\\s]+\\]',\n",
    "        r'\\([A-Z][a-z]+ et al\\., \\d{4}\\)',\n",
    "        r'\\([A-Z][a-z]+, \\d{4}\\)',\n",
    "        r'\\([A-Z][a-z]+ & [A-Z][a-z]+, \\d{4}\\)',\n",
    "        r'\\([A-Z][a-z]+, [A-Z][a-z]+, & [A-Z][a-z]+, \\d{4}\\)',\n",
    "        r'[A-Z][a-z]+ \\(\\d{4}\\)',\n",
    "        r'[A-Z][a-z]+ and [A-Z][a-z]+ \\(\\d{4}\\)',\n",
    "        r'[A-Z][a-z]+ et al\\. \\(\\d{4}\\)',\n",
    "    ]\n",
    "\n",
    "    combined_pattern = '|'.join(citation_patterns)\n",
    "    sentences = re.split(r'(?<=[.!?])\\s+', text)\n",
    "\n",
    "    citation_sentences = [\n",
    "        s for s in sentences\n",
    "        if re.search(combined_pattern, s) and len(s.split()) >= 5\n",
    "    ]\n",
    "    return citation_sentences\n",
    "\n",
    "def highlight_citation_sentences(pdf_path, output_path):\n",
    "    doc = fitz.open(pdf_path)\n",
    "    all_text = extract_text_from_pdf(pdf_path)\n",
    "    citation_sentences = extract_citation_sentences(all_text)\n",
    "\n",
    "    for page in doc:\n",
    "        for sentence in citation_sentences:\n",
    "            areas = page.search_for(sentence)\n",
    "            for rect in areas:\n",
    "                highlight = page.add_highlight_annot(rect)\n",
    "                highlight.update()\n",
    "\n",
    "    doc.save(output_path)\n",
    "    doc.close()\n",
    "\n",
    "\n",
    "# Contoh pemakaian\n",
    "pdf_path = 'test.pdf'\n",
    "output_path = 'highlighted_output.pdf'\n",
    "highlight_citation_sentences(pdf_path, output_path)\n"
   ]
  },
  {
   "cell_type": "code",
   "execution_count": 15,
   "id": "7ad15942",
   "metadata": {},
   "outputs": [],
   "source": [
    "import pandas as pd"
   ]
  },
  {
   "cell_type": "code",
   "execution_count": 16,
   "id": "4ba7df1b",
   "metadata": {},
   "outputs": [],
   "source": [
    "sentences = pd.DataFrame(citation_sentences)"
   ]
  },
  {
   "cell_type": "code",
   "execution_count": 17,
   "id": "97241aec",
   "metadata": {},
   "outputs": [
    {
     "data": {
      "text/html": [
       "<div>\n",
       "<style scoped>\n",
       "    .dataframe tbody tr th:only-of-type {\n",
       "        vertical-align: middle;\n",
       "    }\n",
       "\n",
       "    .dataframe tbody tr th {\n",
       "        vertical-align: top;\n",
       "    }\n",
       "\n",
       "    .dataframe thead th {\n",
       "        text-align: right;\n",
       "    }\n",
       "</style>\n",
       "<table border=\"1\" class=\"dataframe\">\n",
       "  <thead>\n",
       "    <tr style=\"text-align: right;\">\n",
       "      <th></th>\n",
       "      <th>0</th>\n",
       "    </tr>\n",
       "  </thead>\n",
       "  <tbody>\n",
       "    <tr>\n",
       "      <th>0</th>\n",
       "      <td>Kalimat rujukan yang tertulis  dalam karya tul...</td>\n",
       "    </tr>\n",
       "    <tr>\n",
       "      <th>1</th>\n",
       "      <td>Setiap karya ilmiah mempunyai proses analisis ...</td>\n",
       "    </tr>\n",
       "    <tr>\n",
       "      <th>2</th>\n",
       "      <td>Klasifikasi  merupakan  proses  penggolongan a...</td>\n",
       "    </tr>\n",
       "    <tr>\n",
       "      <th>3</th>\n",
       "      <td>Dengan  hasil  tersebut   NLP memberikan respo...</td>\n",
       "    </tr>\n",
       "    <tr>\n",
       "      <th>4</th>\n",
       "      <td>Beberapa  penelitian terdahulu NLP dapat beker...</td>\n",
       "    </tr>\n",
       "    <tr>\n",
       "      <th>5</th>\n",
       "      <td>Dengan hasil tersebut  NLP memberikan respon y...</td>\n",
       "    </tr>\n",
       "    <tr>\n",
       "      <th>6</th>\n",
       "      <td>Hasil penelitian sebelumnya hanya berfokus pad...</td>\n",
       "    </tr>\n",
       "    <tr>\n",
       "      <th>7</th>\n",
       "      <td>Selain  itu  terdapat  juga  penelitian  yang ...</td>\n",
       "    </tr>\n",
       "    <tr>\n",
       "      <th>8</th>\n",
       "      <td>Hasil yang didapatkan pada penelitian tersebut...</td>\n",
       "    </tr>\n",
       "    <tr>\n",
       "      <th>9</th>\n",
       "      <td>Pada penelitian lain dapat melakukan klasifika...</td>\n",
       "    </tr>\n",
       "  </tbody>\n",
       "</table>\n",
       "</div>"
      ],
      "text/plain": [
       "                                                   0\n",
       "0  Kalimat rujukan yang tertulis  dalam karya tul...\n",
       "1  Setiap karya ilmiah mempunyai proses analisis ...\n",
       "2  Klasifikasi  merupakan  proses  penggolongan a...\n",
       "3  Dengan  hasil  tersebut   NLP memberikan respo...\n",
       "4  Beberapa  penelitian terdahulu NLP dapat beker...\n",
       "5  Dengan hasil tersebut  NLP memberikan respon y...\n",
       "6  Hasil penelitian sebelumnya hanya berfokus pad...\n",
       "7  Selain  itu  terdapat  juga  penelitian  yang ...\n",
       "8  Hasil yang didapatkan pada penelitian tersebut...\n",
       "9  Pada penelitian lain dapat melakukan klasifika..."
      ]
     },
     "execution_count": 17,
     "metadata": {},
     "output_type": "execute_result"
    }
   ],
   "source": [
    "sentences.head(10)"
   ]
  },
  {
   "cell_type": "code",
   "execution_count": 6,
   "id": "735d9bb2",
   "metadata": {},
   "outputs": [],
   "source": [
    "import pandas as pd\n",
    "\n",
    "data = pd.read_csv('dataset/data_test_asli.csv')"
   ]
  },
  {
   "cell_type": "code",
   "execution_count": 8,
   "id": "0a0c0848",
   "metadata": {},
   "outputs": [],
   "source": [
    "modus_processed = data['processed_text'].mode()[0]\n",
    "\n",
    "# Isi NaN dengan modus\n",
    "data['processed_text'] = data['processed_text'].fillna(modus_processed)"
   ]
  },
  {
   "cell_type": "code",
   "execution_count": 9,
   "id": "55111741",
   "metadata": {},
   "outputs": [
    {
     "data": {
      "text/plain": [
       "processed_text    0\n",
       "translated        0\n",
       "label             0\n",
       "dtype: int64"
      ]
     },
     "execution_count": 9,
     "metadata": {},
     "output_type": "execute_result"
    }
   ],
   "source": [
    "data.isnull().sum()"
   ]
  },
  {
   "cell_type": "code",
   "execution_count": 12,
   "id": "8f0520b2",
   "metadata": {},
   "outputs": [],
   "source": [
    "data.drop(columns=\"translated\", inplace=True)"
   ]
  },
  {
   "cell_type": "code",
   "execution_count": null,
   "id": "0b95f38c",
   "metadata": {},
   "outputs": [
    {
     "ename": "",
     "evalue": "",
     "output_type": "error",
     "traceback": [
      "\u001b[1;31mThe Kernel crashed while executing code in the current cell or a previous cell. \n",
      "\u001b[1;31mPlease review the code in the cell(s) to identify a possible cause of the failure. \n",
      "\u001b[1;31mClick <a href='https://aka.ms/vscodeJupyterKernelCrash'>here</a> for more info. \n",
      "\u001b[1;31mView Jupyter <a href='command:jupyter.viewOutput'>log</a> for further details."
     ]
    }
   ],
   "source": [
    "data.to_csv('dataset/data_test_asli.csv')"
   ]
  },
  {
   "cell_type": "code",
   "execution_count": 11,
   "id": "02a3c457",
   "metadata": {},
   "outputs": [
    {
     "data": {
      "text/html": [
       "<div>\n",
       "<style scoped>\n",
       "    .dataframe tbody tr th:only-of-type {\n",
       "        vertical-align: middle;\n",
       "    }\n",
       "\n",
       "    .dataframe tbody tr th {\n",
       "        vertical-align: top;\n",
       "    }\n",
       "\n",
       "    .dataframe thead th {\n",
       "        text-align: right;\n",
       "    }\n",
       "</style>\n",
       "<table border=\"1\" class=\"dataframe\">\n",
       "  <thead>\n",
       "    <tr style=\"text-align: right;\">\n",
       "      <th></th>\n",
       "      <th>processed_text</th>\n",
       "      <th>translated</th>\n",
       "      <th>label</th>\n",
       "    </tr>\n",
       "  </thead>\n",
       "  <tbody>\n",
       "    <tr>\n",
       "      <th>0</th>\n",
       "      <td>pembandingan yang konstan adalah strategi anal...</td>\n",
       "      <td>Pembandingan yang konstan adalah strategi anal...</td>\n",
       "      <td>0</td>\n",
       "    </tr>\n",
       "    <tr>\n",
       "      <th>1</th>\n",
       "      <td>rasio strain ini konsisten dengan data eksperi...</td>\n",
       "      <td>Rasio strain ini konsisten dengan data eksperi...</td>\n",
       "      <td>2</td>\n",
       "    </tr>\n",
       "    <tr>\n",
       "      <th>2</th>\n",
       "      <td>penelitian telah memperlihatkan tingkat obesit...</td>\n",
       "      <td>Penelitian telah memperlihatkan bahwa meskipun...</td>\n",
       "      <td>0</td>\n",
       "    </tr>\n",
       "    <tr>\n",
       "      <th>3</th>\n",
       "      <td>dibandingkan dengan keakuratan penilaian ef ed...</td>\n",
       "      <td>[25] dibandingkan dengan keakuratan penilaian ...</td>\n",
       "      <td>1</td>\n",
       "    </tr>\n",
       "    <tr>\n",
       "      <th>4</th>\n",
       "      <td>data dihasilkan dengan model yang sama yang ba...</td>\n",
       "      <td>Karena data dihasilkan dengan model yang sama ...</td>\n",
       "      <td>1</td>\n",
       "    </tr>\n",
       "  </tbody>\n",
       "</table>\n",
       "</div>"
      ],
      "text/plain": [
       "                                      processed_text  \\\n",
       "0  pembandingan yang konstan adalah strategi anal...   \n",
       "1  rasio strain ini konsisten dengan data eksperi...   \n",
       "2  penelitian telah memperlihatkan tingkat obesit...   \n",
       "3  dibandingkan dengan keakuratan penilaian ef ed...   \n",
       "4  data dihasilkan dengan model yang sama yang ba...   \n",
       "\n",
       "                                          translated  label  \n",
       "0  Pembandingan yang konstan adalah strategi anal...      0  \n",
       "1  Rasio strain ini konsisten dengan data eksperi...      2  \n",
       "2  Penelitian telah memperlihatkan bahwa meskipun...      0  \n",
       "3  [25] dibandingkan dengan keakuratan penilaian ...      1  \n",
       "4  Karena data dihasilkan dengan model yang sama ...      1  "
      ]
     },
     "execution_count": 11,
     "metadata": {},
     "output_type": "execute_result"
    }
   ],
   "source": [
    "data.head()"
   ]
  }
 ],
 "metadata": {
  "kernelspec": {
   "display_name": "Python 3",
   "language": "python",
   "name": "python3"
  },
  "language_info": {
   "codemirror_mode": {
    "name": "ipython",
    "version": 3
   },
   "file_extension": ".py",
   "mimetype": "text/x-python",
   "name": "python",
   "nbconvert_exporter": "python",
   "pygments_lexer": "ipython3",
   "version": "3.11.0"
  }
 },
 "nbformat": 4,
 "nbformat_minor": 5
}
